{
 "cells": [
  {
   "cell_type": "markdown",
   "metadata": {},
   "source": [
    "### Prerequsite - Upgrade Scikit Learn\n",
    "The current workspace has scikit-learn v0.19.1 installed. However, you can upgrade scikit-learn to 0.24.x. and use this [OneHotEncoder](https://scikit-learn.org/0.21/modules/generated/sklearn.preprocessing.OneHotEncoder.html) library. \n"
   ]
  },
  {
   "cell_type": "code",
   "execution_count": null,
   "metadata": {},
   "outputs": [],
   "source": [
    "import sklearn\n",
    "print('The scikit-learn version is {}.'.format(sklearn.__version__))"
   ]
  },
  {
   "cell_type": "code",
   "execution_count": null,
   "metadata": {},
   "outputs": [],
   "source": [
    "!pip install --upgrade scikit-learn"
   ]
  },
  {
   "cell_type": "code",
   "execution_count": null,
   "metadata": {},
   "outputs": [],
   "source": [
    "import os\n",
    "os.environ['PATH'] = f\"{os.environ['PATH']}:/root/.local/bin\""
   ]
  },
  {
   "cell_type": "raw",
   "metadata": {},
   "source": [
    "Restart the Kernel. "
   ]
  },
  {
   "cell_type": "code",
   "execution_count": null,
   "metadata": {},
   "outputs": [],
   "source": [
    "# Now you can import and use OneHotEncoder\n",
    "from sklearn.preprocessing import OneHotEncoder"
   ]
  },
  {
   "cell_type": "markdown",
   "metadata": {},
   "source": [
    "# Project: Identify Customer Segments\n",
    "\n",
    "In this project, you will apply unsupervised learning techniques to identify segments of the population that form the core customer base for a mail-order sales company in Germany. These segments can then be used to direct marketing campaigns towards audiences that will have the highest expected rate of returns. The data that you will use has been provided by our partners at Bertelsmann Arvato Analytics, and represents a real-life data science task.\n",
    "\n",
    "This notebook will help you complete this task by providing a framework within which you will perform your analysis steps. In each step of the project, you will see some text describing the subtask that you will perform, followed by one or more code cells for you to complete your work. **Feel free to add additional code and markdown cells as you go along so that you can explore everything in precise chunks.** The code cells provided in the base template will outline only the major tasks, and will usually not be enough to cover all of the minor tasks that comprise it.\n",
    "\n",
    "It should be noted that while there will be precise guidelines on how you should handle certain tasks in the project, there will also be places where an exact specification is not provided. **There will be times in the project where you will need to make and justify your own decisions on how to treat the data.** These are places where there may not be only one way to handle the data. In real-life tasks, there may be many valid ways to approach an analysis task. One of the most important things you can do is clearly document your approach so that other scientists can understand the decisions you've made.\n",
    "\n",
    "At the end of most sections, there will be a Markdown cell labeled **Discussion**. In these cells, you will report your findings for the completed section, as well as document the decisions that you made in your approach to each subtask. **Your project will be evaluated not just on the code used to complete the tasks outlined, but also your communication about your observations and conclusions at each stage.**"
   ]
  },
  {
   "cell_type": "code",
   "execution_count": null,
   "metadata": {},
   "outputs": [],
   "source": [
    "# import libraries here; add more as necessary\n",
    "import numpy as np\n",
    "import pandas as pd\n",
    "import matplotlib.pyplot as plt\n",
    "import seaborn as sns\n",
    "import re\n",
    "from sklearn.preprocessing import MinMaxScaler, StandardScaler\n",
    "\n",
    "# magic word for producing visualizations in notebook\n",
    "%matplotlib inline\n",
    "\n",
    "'''\n",
    "Import note: The classroom currently uses sklearn version 0.19.\n",
    "If you need to use an imputer, it is available in sklearn.preprocessing.Imputer,\n",
    "instead of sklearn.impute as in newer versions of sklearn.\n",
    "'''\n",
    "pd.options.display.max_rows = 200\n",
    "pd.options.display.max_columns = None"
   ]
  },
  {
   "cell_type": "markdown",
   "metadata": {},
   "source": [
    "### Step 0: Load the Data\n",
    "\n",
    "There are four files associated with this project (not including this one):\n",
    "\n",
    "- `Udacity_AZDIAS_Subset.csv`: Demographics data for the general population of Germany; 891211 persons (rows) x 85 features (columns).\n",
    "- `Udacity_CUSTOMERS_Subset.csv`: Demographics data for customers of a mail-order company; 191652 persons (rows) x 85 features (columns).\n",
    "- `Data_Dictionary.md`: Detailed information file about the features in the provided datasets.\n",
    "- `AZDIAS_Feature_Summary.csv`: Summary of feature attributes for demographics data; 85 features (rows) x 4 columns\n",
    "\n",
    "Each row of the demographics files represents a single person, but also includes information outside of individuals, including information about their household, building, and neighborhood. You will use this information to cluster the general population into groups with similar demographic properties. Then, you will see how the people in the customers dataset fit into those created clusters. The hope here is that certain clusters are over-represented in the customers data, as compared to the general population; those over-represented clusters will be assumed to be part of the core userbase. This information can then be used for further applications, such as targeting for a marketing campaign.\n",
    "\n",
    "To start off with, load in the demographics data for the general population into a pandas DataFrame, and do the same for the feature attributes summary. Note for all of the `.csv` data files in this project: they're semicolon (`;`) delimited, so you'll need an additional argument in your [`read_csv()`](https://pandas.pydata.org/pandas-docs/stable/generated/pandas.read_csv.html) call to read in the data properly. Also, considering the size of the main dataset, it may take some time for it to load completely.\n",
    "\n",
    "Once the dataset is loaded, it's recommended that you take a little bit of time just browsing the general structure of the dataset and feature summary file. You'll be getting deep into the innards of the cleaning in the first major step of the project, so gaining some general familiarity can help you get your bearings."
   ]
  },
  {
   "cell_type": "code",
   "execution_count": null,
   "metadata": {},
   "outputs": [],
   "source": [
    "# Load in the general demographics data.\n",
    "azdias_gen = pd.read_csv('Udacity_AZDIAS_Subset.csv', engine='python', sep='\\;')\n",
    "\n",
    "# Load in the feature summary file.\n",
    "azdias_feature = pd.read_csv('AZDIAS_Feature_Summary.csv', engine='python', sep='\\;')"
   ]
  },
  {
   "cell_type": "code",
   "execution_count": null,
   "metadata": {},
   "outputs": [],
   "source": [
    "# Check the structure of the data after it's loaded (e.g. print the number of\n",
    "# rows and columns, print the first few rows).\n",
    "\n",
    "azdias_gen.head()"
   ]
  },
  {
   "cell_type": "code",
   "execution_count": null,
   "metadata": {},
   "outputs": [],
   "source": [
    "azdias_feature"
   ]
  },
  {
   "cell_type": "code",
   "execution_count": null,
   "metadata": {},
   "outputs": [],
   "source": [
    "azdias_gen.shape"
   ]
  },
  {
   "cell_type": "code",
   "execution_count": null,
   "metadata": {},
   "outputs": [],
   "source": [
    "unknown_chars = [-1, 'X', 'XX']"
   ]
  },
  {
   "cell_type": "code",
   "execution_count": null,
   "metadata": {},
   "outputs": [],
   "source": [
    "# Count of each column in each dataset that started out with the unknown characters\n",
    "azdias_gen.info()"
   ]
  },
  {
   "cell_type": "code",
   "execution_count": null,
   "metadata": {},
   "outputs": [],
   "source": [
    "azdias_gen.isin(unknown_chars).sum()"
   ]
  },
  {
   "cell_type": "code",
   "execution_count": null,
   "metadata": {},
   "outputs": [],
   "source": [
    "# Count of each column in each dataset that started out NaN"
   ]
  },
  {
   "cell_type": "code",
   "execution_count": null,
   "metadata": {},
   "outputs": [],
   "source": [
    "azdias_gen.isna().sum()"
   ]
  },
  {
   "cell_type": "markdown",
   "metadata": {},
   "source": [
    "## Step 1: Preprocessing\n",
    "\n",
    "### Step 1.1: Assess Missing Data\n",
    "\n",
    "The feature summary file contains a summary of properties for each demographics data column. You will use this file to help you make cleaning decisions during this stage of the project. First of all, you should assess the demographics data in terms of missing data. Pay attention to the following points as you perform your analysis, and take notes on what you observe. Make sure that you fill in the **Discussion** cell with your findings and decisions at the end of each step that has one!\n",
    "\n",
    "#### Step 1.1.1: Convert Missing Value Codes to NaNs\n",
    "The fourth column of the feature attributes summary (loaded in above as `feat_info`) documents the codes from the data dictionary that indicate missing or unknown data. While the file encodes this as a list (e.g. `[-1,0]`), this will get read in as a string object. You'll need to do a little bit of parsing to make use of it to identify and clean the data. Convert data that matches a 'missing' or 'unknown' value code into a numpy NaN value. You might want to see how much data takes on a 'missing' or 'unknown' code, and how much data is naturally missing, as a point of interest."
   ]
  },
  {
   "cell_type": "code",
   "execution_count": null,
   "metadata": {},
   "outputs": [],
   "source": [
    "# Identify missing or unknown data values and convert them to NaNs.\n",
    "\n",
    "# Convert entries in 'missing_or_unknown' column from strings to lists\n",
    "\n",
    "lists = azdias_feature['missing_or_unknown']\n",
    "result_list = []\n",
    "for i in lists:\n",
    "    result = i.lstrip('[')\n",
    "    result = result.rstrip(']')\n",
    "    result = result.split(',')\n",
    "    result_list.append(result)\n",
    "azdias_feature['unknown_converted'] = pd.Series(result_list)"
   ]
  },
  {
   "cell_type": "code",
   "execution_count": null,
   "metadata": {},
   "outputs": [],
   "source": [
    "azdias_gen.replace(unknown_chars, np.nan, inplace=True)"
   ]
  },
  {
   "cell_type": "code",
   "execution_count": null,
   "metadata": {},
   "outputs": [],
   "source": [
    "azdias_gen['ALTERSKATEGORIE_GROB'].replace(0, np.nan, inplace=True)"
   ]
  },
  {
   "cell_type": "code",
   "execution_count": null,
   "metadata": {},
   "outputs": [],
   "source": [
    "azdias_gen['ANREDE_KZ'].replace(0, np.nan, inplace=True)"
   ]
  },
  {
   "cell_type": "code",
   "execution_count": null,
   "metadata": {},
   "outputs": [],
   "source": [
    "azdias_gen['CJT_GESAMTTYP'].replace(0, np.nan, inplace=True)"
   ]
  },
  {
   "cell_type": "code",
   "execution_count": null,
   "metadata": {},
   "outputs": [],
   "source": [
    "azdias_gen['HEALTH_TYP'].replace(0, np.nan, inplace=True)"
   ]
  },
  {
   "cell_type": "code",
   "execution_count": null,
   "metadata": {},
   "outputs": [],
   "source": [
    "azdias_gen['LP_FAMILIE_GROB'].replace(0, np.nan, inplace=True)"
   ]
  },
  {
   "cell_type": "code",
   "execution_count": null,
   "metadata": {},
   "outputs": [],
   "source": [
    "azdias_gen['PRAEGENDE_JUGENDJAHRE'].replace(0, np.nan, inplace=True)"
   ]
  },
  {
   "cell_type": "code",
   "execution_count": null,
   "metadata": {},
   "outputs": [],
   "source": [
    "azdias_gen['RETOURTYP_BK_S'].replace(0, np.nan, inplace=True)"
   ]
  },
  {
   "cell_type": "code",
   "execution_count": null,
   "metadata": {},
   "outputs": [],
   "source": [
    "azdias_gen['ALTER_HH'].replace(0, np.nan, inplace=True)"
   ]
  },
  {
   "cell_type": "code",
   "execution_count": null,
   "metadata": {},
   "outputs": [],
   "source": [
    "azdias_gen['HH_EINKOMMEN_SCORE'].replace(0, np.nan, inplace=True)"
   ]
  },
  {
   "cell_type": "code",
   "execution_count": null,
   "metadata": {},
   "outputs": [],
   "source": [
    "azdias_gen['W_KEIT_KIND_HH'].replace(0, np.nan, inplace=True)"
   ]
  },
  {
   "cell_type": "code",
   "execution_count": null,
   "metadata": {},
   "outputs": [],
   "source": [
    "azdias_gen['WOHNDAUER_2008'].replace(0, np.nan, inplace=True)"
   ]
  },
  {
   "cell_type": "code",
   "execution_count": null,
   "metadata": {},
   "outputs": [],
   "source": [
    "azdias_gen['KKK'].replace(0, np.nan, inplace=True)"
   ]
  },
  {
   "cell_type": "code",
   "execution_count": null,
   "metadata": {},
   "outputs": [],
   "source": [
    "azdias_gen['REGIOTYP'].replace(0, np.nan, inplace=True)"
   ]
  },
  {
   "cell_type": "code",
   "execution_count": null,
   "metadata": {},
   "outputs": [],
   "source": [
    "azdias_gen['ALTER_HH'].replace(0, np.nan, inplace=True)"
   ]
  },
  {
   "cell_type": "code",
   "execution_count": null,
   "metadata": {},
   "outputs": [],
   "source": [
    "azdias_gen['ARBEIT'].replace(9, np.nan, inplace=True)"
   ]
  },
  {
   "cell_type": "code",
   "execution_count": null,
   "metadata": {},
   "outputs": [],
   "source": [
    "azdias_gen['RELAT_AB'].replace(9, np.nan, inplace=True)"
   ]
  },
  {
   "cell_type": "code",
   "execution_count": null,
   "metadata": {},
   "outputs": [],
   "source": [
    "# Investigate patterns in the amount of missing data in each column.\n",
    "missing_data_in_df_gen=pd.DataFrame({'NaN_Counts': azdias_gen.isna().sum(), 'NaN_Proportions(%)': (azdias_gen.isna().sum() / azdias_gen.shape[0]) * 100}).sort_values(by='NaN_Proportions(%)', ascending=False)\n",
    "missing_data_in_df_gen[missing_data_in_df_gen['NaN_Proportions(%)'] > 9]\n",
    "\n",
    "# Source: https://stackoverflow.com/questions/72083258/how-to-plot-distribution-of-missing-values-in-a-dataframe"
   ]
  },
  {
   "cell_type": "markdown",
   "metadata": {},
   "source": [
    "#### Step 1.1.2: Assess Missing Data in Each Column\n",
    "\n",
    "How much missing data is present in each column? There are a few columns that are outliers in terms of the proportion of values that are missing. You will want to use matplotlib's [`hist()`](https://matplotlib.org/api/_as_gen/matplotlib.pyplot.hist.html) function to visualize the distribution of missing value counts to find these columns. Identify and document these columns. While some of these columns might have justifications for keeping or re-encoding the data, for this project you should just remove them from the dataframe. (Feel free to make remarks about these outlier columns in the discussion, however!)\n",
    "\n",
    "For the remaining features, are there any patterns in which columns have, or share, missing data?"
   ]
  },
  {
   "cell_type": "code",
   "execution_count": null,
   "metadata": {},
   "outputs": [],
   "source": [
    "# Perform an assessment of how much missing data there is in each column of the\n",
    "# dataset.\n",
    "\n",
    "plt.figure(figsize=(10, 6))\n",
    "missing_data_in_df_gen['NaN_Proportions(%)'].plot(kind='bar', color='skyblue')\n",
    "plt.title('Proportion of NaN Values by Column')\n",
    "plt.xlabel('Columns')\n",
    "plt.ylabel('Proportion of NaN Values')\n",
    "plt.xticks(rotation=90)\n",
    "plt.ylim(0, 100)\n",
    "plt.grid(axis='y')\n",
    "plt.tight_layout()\n",
    "plt.show()"
   ]
  },
  {
   "cell_type": "code",
   "execution_count": null,
   "metadata": {},
   "outputs": [],
   "source": [
    "print(len(azdias_gen.columns))"
   ]
  },
  {
   "cell_type": "code",
   "execution_count": null,
   "metadata": {},
   "outputs": [],
   "source": [
    "# Remove the outlier columns from the dataset. (You'll perform other data\n",
    "# engineering tasks such as re-encoding and imputation later.)\n",
    "\n",
    "azdias_gen = azdias_gen.loc[:, azdias_gen.columns.difference(['TITEL_KZ', 'KK_KUNDENTYP', 'KBA05_BAUMAX', 'AGER_TYP', \n",
    "                 'GEBURTSJAHR', 'LP_LEBENSPHASE_FEIN', \n",
    "                 'LP_LEBENSPHASE_GROB', 'LP_FAMILIE_FEIN', 'LP_STATUS_FEIN',\n",
    "                 'NATIONALITAET_KZ'])]"
   ]
  },
  {
   "cell_type": "code",
   "execution_count": null,
   "metadata": {},
   "outputs": [],
   "source": [
    "print(len(azdias_gen.columns))"
   ]
  },
  {
   "cell_type": "markdown",
   "metadata": {},
   "source": [
    "#### Discussion 1.1.2: Assess Missing Data in Each Column####\n",
    "\n",
    "AGER_TYP is a field that tracks what type of elderly person each person is.  Based on the fact that this field is NaN over 76% in the general population dataset and over 50% in the customer dataset, it's clear that either the population is generally not elderly or that this information was not captured.  The customer base is more likely to be elderly than not.\n",
    "\n",
    "KK_KUNDENTYP is a field for tracking consumer patterns over the last 12 months, but that information was unknown for over 50% of people in each dataset.\n",
    "\n",
    "TITEL_KZ shows if a person is a doctor of academia.  Over 99% of people in each dataset were not doctors.\n",
    "\n",
    "KBA05_BAUMAX is the most common housing type in a given microcell.  That statistic is also unknown for over 50% of people.\n",
    "\n",
    "GEBURTSJAHR is the year of birth of the user, but it, too, is missing for almost 50% of people.\n",
    "\n",
    "LP_LEBENSPHASE_FEIN and LP_LEBENSPHASE_GROB are classifications of life stages at the fine and rough scales, respectively.  These have more detailed than needed for our analysis.\n",
    "\n",
    "LP_FAMILIE_FEIN and LP_STATUS_FEIN are fine classifications of family and social status, respectively.  These have more detailed than needed for our analysis.\n",
    "\n",
    "NATIONALITAET_KZ is for nationality of surname which should not matter in the analysis.\n",
    "\n",
    "GEBAEUDETYP is for type of building family lives in, which should not matter for the analysis we're doing.\n",
    "\n",
    "CAMEO_DEU_2015 and CAMEO_DEUG_2015 are for wealth and life stage typology.  CAMEO_INTL_2015 is going to be analyzed, so no need for the other two categories.\n",
    "\n",
    "The family and social variables relate to each other, but none of the other variables do.\n",
    "\n",
    "*Columns Dropped:*  \n",
    "-TITEL_KZ  \n",
    "-KK_KUNDENTYP  \n",
    "-KBA05_BAUMAX  \n",
    "-AGER_TYP  \n",
    "-GEBURTSJAHR  \n",
    "-LP_LEBENSPHASE_FEIN  \n",
    "-LP_LEBENSPHASE_GROB  \n",
    "-LP_FAMILIE_FEIN  \n",
    "-LP_STATUS_FEIN  \n",
    "-NATIONALITAET_KZ  \n",
    "-GEBAEUDETYP  \n",
    "-CAMEO_DEUG_2015  \n",
    "-CAMEO_DEU_2015  \n",
    "-GEBAEUDETYP_RASTER  "
   ]
  },
  {
   "cell_type": "markdown",
   "metadata": {},
   "source": [
    "#### Step 1.1.3: Assess Missing Data in Each Row\n",
    "\n",
    "Now, you'll perform a similar assessment for the rows of the dataset. How much data is missing in each row? As with the columns, you should see some groups of points that have a very different numbers of missing values. Divide the data into two subsets: one for data points that are above some threshold for missing values, and a second subset for points below that threshold.\n",
    "\n",
    "In order to know what to do with the outlier rows, we should see if the distribution of data values on columns that are not missing data (or are missing very little data) are similar or different between the two groups. Select at least five of these columns and compare the distribution of values.\n",
    "- You can use seaborn's [`countplot()`](https://seaborn.pydata.org/generated/seaborn.countplot.html) function to create a bar chart of code frequencies and matplotlib's [`subplot()`](https://matplotlib.org/api/_as_gen/matplotlib.pyplot.subplot.html) function to put bar charts for the two subplots side by side.\n",
    "- To reduce repeated code, you might want to write a function that can perform this comparison, taking as one of its arguments a column to be compared.\n",
    "\n",
    "Depending on what you observe in your comparison, this will have implications on how you approach your conclusions later in the analysis. If the distributions of non-missing features look similar between the data with many missing values and the data with few or no missing values, then we could argue that simply dropping those points from the analysis won't present a major issue. On the other hand, if the data with many missing values looks very different from the data with few or no missing values, then we should make a note on those data as special. We'll revisit these data later on. **Either way, you should continue your analysis for now using just the subset of the data with few or no missing values.**"
   ]
  },
  {
   "cell_type": "code",
   "execution_count": null,
   "metadata": {},
   "outputs": [],
   "source": [
    "# How much data is missing in each row of the dataset?\n",
    "threshold = 0\n",
    "missing_gen = azdias_gen.isna().sum(axis=1)"
   ]
  },
  {
   "cell_type": "code",
   "execution_count": null,
   "metadata": {},
   "outputs": [],
   "source": [
    "azdias_gen['missing_values'] = missing_gen"
   ]
  },
  {
   "cell_type": "code",
   "execution_count": null,
   "metadata": {},
   "outputs": [],
   "source": [
    "# Write code to divide the data into two subsets based on the number of missing\n",
    "# values in each row.\n",
    "subset_with_missing_gen = azdias_gen.loc[missing_gen > threshold]\n",
    "subset_without_missing_gen = azdias_gen.loc[missing_gen <= threshold]"
   ]
  },
  {
   "cell_type": "markdown",
   "metadata": {},
   "source": [
    "#### Discussion 1.1.3: Assess Missing Data in Each Row\n",
    "\n",
    "Yes, the dataset with a lot of missing values in each row is qualtatively poorer than the one with few or no missing values.  This usually means that either the methods of data collection were poor, or the attention to entering the data in the dataset were inadequate.  This will result in the analysis of that dataset compared to a more complete dataset to be biased.  This is why I chose the threshold of no more than 3 empty values per row to be included in the dataset I will end up analyzing."
   ]
  },
  {
   "cell_type": "markdown",
   "metadata": {},
   "source": [
    "### Step 1.2: Select and Re-Encode Features\n",
    "\n",
    "Checking for missing data isn't the only way in which you can prepare a dataset for analysis. Since the unsupervised learning techniques to be used will only work on data that is encoded numerically, you need to make a few encoding changes or additional assumptions to be able to make progress. In addition, while almost all of the values in the dataset are encoded using numbers, not all of them represent numeric values. Check the third column of the feature summary (`feat_info`) for a summary of types of measurement.\n",
    "- For numeric and interval data, these features can be kept without changes.\n",
    "- Most of the variables in the dataset are ordinal in nature. While ordinal values may technically be non-linear in spacing, make the simplifying assumption that the ordinal variables can be treated as being interval in nature (that is, kept without any changes).\n",
    "- Special handling may be necessary for the remaining two variable types: categorical, and 'mixed'.\n",
    "\n",
    "In the first two parts of this sub-step, you will perform an investigation of the categorical and mixed-type features and make a decision on each of them, whether you will keep, drop, or re-encode each. Then, in the last part, you will create a new data frame with only the selected and engineered columns.\n",
    "\n",
    "Data wrangling is often the trickiest part of the data analysis process, and there's a lot of it to be done here. But stick with it: once you're done with this step, you'll be ready to get to the machine learning parts of the project!"
   ]
  },
  {
   "cell_type": "markdown",
   "metadata": {},
   "source": [
    "#### Step 1.2.1: Re-Encode Categorical Features\n",
    "\n",
    "For categorical data, you would ordinarily need to encode the levels as dummy variables. Depending on the number of categories, perform one of the following:\n",
    "- For binary (two-level) categoricals that take numeric values, you can keep them without needing to do anything.\n",
    "- There is one binary variable that takes on non-numeric values. For this one, you need to re-encode the values as numbers or create a dummy variable.\n",
    "- For multi-level categoricals (three or more values), you can choose to encode the values using multiple dummy variables (e.g. via [OneHotEncoder](http://scikit-learn.org/stable/modules/generated/sklearn.preprocessing.OneHotEncoder.html)), or (to keep things straightforward) just drop them from the analysis. As always, document your choices in the Discussion section."
   ]
  },
  {
   "cell_type": "code",
   "execution_count": null,
   "metadata": {},
   "outputs": [],
   "source": [
    "# Assess categorical variables: which are binary, which are multi-level, and\n",
    "# which one needs to be re-encoded?\n",
    "\n",
    "categorical_columns_gen = subset_without_missing_gen.select_dtypes(include=['object', 'category']).columns\n",
    "\n",
    "print(\"Categorical Variables - General:\", categorical_columns_gen)"
   ]
  },
  {
   "cell_type": "code",
   "execution_count": null,
   "metadata": {},
   "outputs": [],
   "source": [
    "for col in categorical_columns_gen:\n",
    "    unique_values = subset_without_missing_gen[col].unique()\n",
    "    num_unique = len(unique_values)\n",
    "    print(f\"Column: {col}\")\n",
    "    print(f\"Unique Values: {unique_values}\")\n",
    "    print(f\"Number of Unique Values: {num_unique}\")\n",
    "\n",
    "    if num_unique == 2:\n",
    "        print(\"This is a binary categorical variable.\")\n",
    "    elif num_unique > 2:\n",
    "        print(\"This is a multi-level categorical variable.\")\n",
    "    else:\n",
    "        print(\"This variable has no meaningful categories.\")\n",
    "    print()  # Print a newline for better readability\n"
   ]
  },
  {
   "cell_type": "code",
   "execution_count": null,
   "metadata": {},
   "outputs": [],
   "source": [
    "# Drop unnecessary columns\n",
    "\n",
    "cols_to_drop = ['OST_WEST_KZ', 'CAMEO_DEUG_2015', 'CAMEO_DEU_2015', 'KBA13_ANZAHL_PKW',\n",
    "               'PLZ8_ANTG1', 'PLZ8_ANTG2', 'PLZ8_ANTG3', 'PLZ8_ANTG4', 'PLZ8_BAUMAX',\n",
    "               'PLZ8_HHZ', 'PLZ8_GBZ', 'GEBAEUDETYP_RASTER', 'MOBI_REGIO', 'GEBAEUDETYP_RASTER',\n",
    "               'BALLRAUM', 'EWDICHTE', 'INNENSTADT', 'KBA05_GBZ', 'KBA05_ANTG4',\n",
    "               'KBA05_ANTG3', 'KBA05_ANTG2', 'KBA05_ANTG1', 'WOHNLAGE', \n",
    "               'MIN_GEBAEUDEJAHR', 'ANZ_HAUSHALTE_AKTIV', 'GEBAEUDETYP',\n",
    "               'KONSUMNAEHE', 'SOHO_KZ', 'VERS_TYP', 'ZABEOTYP']\n",
    "\n",
    "subset_without_missing_gen = subset_without_missing_gen.loc[:, subset_without_missing_gen.columns.difference(cols_to_drop)]"
   ]
  },
  {
   "cell_type": "markdown",
   "metadata": {},
   "source": [
    "#### Discussion 1.2.1: Re-Encode Categorical Features\n",
    "\n",
    "I dropped the columns above due to them being too detailed and unnecessary for our analysis.  I'm keeping PRAEGENDE_JUGENDJAHRE and CAMEO_INTL_2015 because age, income level, and movement could make a big difference in whether or not someone becomes a customer.  I will be breaking PRAEGENDE_JUGENDJAHRE up into two new columns: Decade and Movement, to separate out the multiple levels from that column.  I will be breaking CAMEO_INTL_2015 up into two new columns: Wealth and Family, to separate out the multiple levels from that column.\n",
    "I'm decoding and then re-encoding ANREDE_KZ, CJT_GESAMTTYP, FINANZTYP, GFK_URLAUBERTYP, HEALTH_TYP, LP_FAMILIE_GROB, LP_STATUS_GROB, RETOURTYP_BK_S, SHOPPER_TYP, VERS_TYP, ZABEOTYP because they are nominal categories.  The remainder not addressed are ordinal in nature and already coded as such."
   ]
  },
  {
   "cell_type": "markdown",
   "metadata": {},
   "source": [
    "#### Step 1.2.2: Engineer Mixed-Type Features\n",
    "\n",
    "There are a handful of features that are marked as \"mixed\" in the feature summary that require special treatment in order to be included in the analysis. There are two in particular that deserve attention; the handling of the rest are up to your own choices:\n",
    "- \"PRAEGENDE_JUGENDJAHRE\" combines information on three dimensions: generation by decade, movement (mainstream vs. avantgarde), and nation (east vs. west). While there aren't enough levels to disentangle east from west, you should create two new variables to capture the other two dimensions: an interval-type variable for decade, and a binary variable for movement.\n",
    "- \"CAMEO_INTL_2015\" combines information on two axes: wealth and life stage. Break up the two-digit codes by their 'tens'-place and 'ones'-place digits into two new ordinal variables (which, for the purposes of this project, is equivalent to just treating them as their raw numeric values).\n",
    "- If you decide to keep or engineer new features around the other mixed-type features, make sure you note your steps in the Discussion section.\n",
    "\n",
    "Be sure to check `Data_Dictionary.md` for the details needed to finish these tasks."
   ]
  },
  {
   "cell_type": "code",
   "execution_count": null,
   "metadata": {},
   "outputs": [],
   "source": [
    "print(pd.__version__)"
   ]
  },
  {
   "cell_type": "code",
   "execution_count": null,
   "metadata": {},
   "outputs": [],
   "source": [
    "!pip install --upgrade pandas"
   ]
  },
  {
   "cell_type": "code",
   "execution_count": null,
   "metadata": {},
   "outputs": [],
   "source": [
    "# Decode nominal variables before re-encoding using OneHotEncoder\n",
    "\n",
    "gender_map = {1: 'Male',\n",
    "              2: 'Female'}\n",
    "advert_map = {1: 'Advertising- and Consumptionminimalist',\n",
    "              2: 'Advertising- and Consumptiontraditionalist',\n",
    "              3: 'advertisinginterested Store-shopper',\n",
    "              4: 'advertisinginterested Online-shopper',\n",
    "              5: 'Advertising- and Cross-Channel-Enthusiast',\n",
    "              6: 'Advertising-Enthusiast with restricted Cross-Channel-Behaviour'}\n",
    "financial_map = {1: 'low financial interest (MINIMALIST)',\n",
    "                 2: 'money-saver (SPARER)',\n",
    "                 3: 'home ownership (HAUSBAUER)',\n",
    "                 4: 'be prepared (VORSORGER)',\n",
    "                 5: 'investor (ANLEGER)',\n",
    "                 6: 'inconspicuous (UNAUFFAELLIGER)'}\n",
    "vacation_map = {1: 'Event travelers',\n",
    "                2: 'Family-oriented vacationists',\n",
    "                3: 'Winter sportspeople',\n",
    "                4: 'Culture lovers',\n",
    "                5: 'Nature fans',\n",
    "                6: 'Hiker',\n",
    "                7: 'Golden ager',\n",
    "                8: 'Homeland-connected vacationists',\n",
    "                9: 'Package tour travelers',\n",
    "                10: 'Connoisseurs',\n",
    "                11: 'Active families',\n",
    "                12: 'Without vacation'}\n",
    "health_map = {1: 'critical reserved',\n",
    "              2: 'sanitary affine',\n",
    "              3: 'jaunty hedonists'}\n",
    "family_rough_map = {1: 'single',\n",
    "                    2: 'couple',\n",
    "                    3: 'single parent',\n",
    "                    4: 'family',\n",
    "                    5: 'multiperson household'}\n",
    "social_status_map = {1: 'low-income',\n",
    "                     2: 'average',\n",
    "                     3: 'independents',\n",
    "                     4: 'houseowners',\n",
    "                     5: 'top earners'}\n",
    "return_map = {1: 'influenceable',\n",
    "              2: 'demanding',\n",
    "              3: 'incentive-receptive',\n",
    "              4: 'conservative',\n",
    "              5: 'determined'}\n",
    "shopper_map = {0: 'external supplied hedonists',\n",
    "               1: 'Shopping-stressed',\n",
    "               2: 'family-shopper',\n",
    "               3: 'demanding shopper'}"
   ]
  },
  {
   "cell_type": "code",
   "execution_count": null,
   "metadata": {},
   "outputs": [],
   "source": [
    "subset_without_missing_gen['ANREDE_KZ'] = subset_without_missing_gen['ANREDE_KZ'].map(gender_map)\n",
    "subset_without_missing_gen['CJT_GESAMTTYP'] = subset_without_missing_gen['CJT_GESAMTTYP'].map(advert_map)\n",
    "subset_without_missing_gen['FINANZTYP'] = subset_without_missing_gen['FINANZTYP'].map(financial_map)\n",
    "subset_without_missing_gen['GFK_URLAUBERTYP'] = subset_without_missing_gen['GFK_URLAUBERTYP'].map(vacation_map)\n",
    "subset_without_missing_gen['HEALTH_TYP'] = subset_without_missing_gen['HEALTH_TYP'].map(health_map)\n",
    "subset_without_missing_gen['LP_FAMILIE_GROB'] = subset_without_missing_gen['LP_FAMILIE_GROB'].map(family_rough_map)\n",
    "subset_without_missing_gen['LP_STATUS_GROB'] = subset_without_missing_gen['LP_STATUS_GROB'].map(social_status_map)\n",
    "subset_without_missing_gen['RETOURTYP_BK_S'] = subset_without_missing_gen['RETOURTYP_BK_S'].map(return_map)\n",
    "subset_without_missing_gen['SHOPPER_TYP'] = subset_without_missing_gen['SHOPPER_TYP'].map(shopper_map)"
   ]
  },
  {
   "cell_type": "code",
   "execution_count": null,
   "metadata": {},
   "outputs": [],
   "source": [
    "# Investigate \"PRAEGENDE_JUGENDJAHRE\" and engineer two new variables.\n",
    "\n",
    "subset_without_missing_gen['Decade'] = subset_without_missing_gen['PRAEGENDE_JUGENDJAHRE']\n",
    "subset_without_missing_gen['Decade'].replace([1, 2], 1, inplace=True)\n",
    "subset_without_missing_gen['Decade'].replace([3, 4], 2, inplace=True)\n",
    "subset_without_missing_gen['Decade'].replace([5, 6, 7], 3, inplace=True)\n",
    "subset_without_missing_gen['Decade'].replace([8, 9], 4, inplace=True)\n",
    "subset_without_missing_gen['Decade'].replace([10, 11, 12, 13], 5, inplace=True)\n",
    "subset_without_missing_gen['Decade'].replace([14, 15], 6, inplace=True)\n",
    "subset_without_missing_gen['Movement'] = subset_without_missing_gen['PRAEGENDE_JUGENDJAHRE']\n",
    "subset_without_missing_gen['Movement'].replace([1, 3, 5, 8, 10, 12, 14], 0, inplace=True)\n",
    "subset_without_missing_gen['Movement'].replace([2, 4, 6, 7, 9, 11, 13, 15], 1, inplace=True)"
   ]
  },
  {
   "cell_type": "code",
   "execution_count": null,
   "metadata": {},
   "outputs": [],
   "source": [
    "# Investigate \"CAMEO_INTL_2015\" and engineer two new variables.\n",
    "\n",
    "subset_without_missing_gen['Wealth'] = subset_without_missing_gen['CAMEO_INTL_2015']\n",
    "subset_without_missing_gen['Wealth'].replace(['11', '12', '13', '14', '15'], 1, inplace=True)\n",
    "subset_without_missing_gen['Wealth'].replace(['21', '22', '23', '24', '25'], 2, inplace=True)\n",
    "subset_without_missing_gen['Wealth'].replace(['31', '32', '33', '34', '35'], 3, inplace=True)\n",
    "subset_without_missing_gen['Wealth'].replace(['41', '42', '43', '44', '45'], 4, inplace=True)\n",
    "subset_without_missing_gen['Wealth'].replace(['51', '52', '53', '54', '55'], 5, inplace=True)\n",
    "subset_without_missing_gen['Family'] = subset_without_missing_gen['CAMEO_INTL_2015']\n",
    "subset_without_missing_gen['Family'].replace(['11', '21', '31', '41', '51'], 1, inplace=True)\n",
    "subset_without_missing_gen['Family'].replace(['12', '22', '32', '42', '52'], 2, inplace=True)\n",
    "subset_without_missing_gen['Family'].replace(['13', '23', '33', '43', '53'], 3, inplace=True)\n",
    "subset_without_missing_gen['Family'].replace(['14', '24', '34', '44', '54'], 4, inplace=True)\n",
    "subset_without_missing_gen['Family'].replace(['15', '25', '35', '45', '55'], 5, inplace=True)"
   ]
  },
  {
   "cell_type": "code",
   "execution_count": null,
   "metadata": {},
   "outputs": [],
   "source": [
    "# Decode the new variables created from PRAEGENDE_JUGENDJAHRE and CAMEO_INTL_2015 so they can be re-encoded using OneHotEncoder\n",
    "\n",
    "decade_map = {1.0: '40s',\n",
    "              2.0: '50s',\n",
    "              3.0: '60s',\n",
    "              4.0: '70s',\n",
    "              5.0: '80s',\n",
    "              6.0: '90s'}\n",
    "movement_map = {0.0: 'mainstream',\n",
    "                1.0: 'avantgarde'}\n",
    "wealth_map = {1.0: 'Wealthy Households',\n",
    "              2.0: 'Prosperous Households',\n",
    "              3.0: 'Comfortable Households',\n",
    "              4.0: 'Less Affluent Households',\n",
    "              5.0: 'Poorer Households'}\n",
    "family_map = {1.0: 'Pre-Family Couples & Singles',\n",
    "              2.0: 'Young Couples With Children',\n",
    "              3.0: 'Families With School Age Children',\n",
    "              4.0: 'Older Families &  Mature Couples',\n",
    "              5.0: 'Elders In Retirement'}"
   ]
  },
  {
   "cell_type": "code",
   "execution_count": null,
   "metadata": {},
   "outputs": [],
   "source": [
    "subset_without_missing_gen['Decade'] = subset_without_missing_gen['Decade'].map(decade_map)\n",
    "subset_without_missing_gen['Movement'] = subset_without_missing_gen['Movement'].map(movement_map)\n",
    "subset_without_missing_gen['Wealth'] = subset_without_missing_gen['Wealth'].map(wealth_map)\n",
    "subset_without_missing_gen['Family'] = subset_without_missing_gen['Family'].map(family_map)"
   ]
  },
  {
   "cell_type": "code",
   "execution_count": null,
   "metadata": {},
   "outputs": [],
   "source": [
    "# Re-encode categorical variable(s) to be kept in the analysis.\n",
    "cat_columns = ['Decade', 'Movement', 'Wealth', 'Family', 'ANREDE_KZ', 'CJT_GESAMTTYP', 'FINANZTYP', 'GFK_URLAUBERTYP', \n",
    "              'HEALTH_TYP', 'LP_FAMILIE_GROB', 'LP_STATUS_GROB', 'RETOURTYP_BK_S', 'SHOPPER_TYP']"
   ]
  },
  {
   "cell_type": "code",
   "execution_count": null,
   "metadata": {},
   "outputs": [],
   "source": [
    "ohe = OneHotEncoder(sparse=False, handle_unknown='ignore')"
   ]
  },
  {
   "cell_type": "code",
   "execution_count": null,
   "metadata": {},
   "outputs": [],
   "source": [
    "transform_gen = ohe.fit_transform(subset_without_missing_gen[cat_columns])"
   ]
  },
  {
   "cell_type": "code",
   "execution_count": null,
   "metadata": {},
   "outputs": [],
   "source": [
    "subset_without_missing_gen[cat_columns].shape"
   ]
  },
  {
   "cell_type": "code",
   "execution_count": null,
   "metadata": {},
   "outputs": [],
   "source": [
    "column_names = ohe.get_feature_names(cat_columns)"
   ]
  },
  {
   "cell_type": "code",
   "execution_count": null,
   "metadata": {},
   "outputs": [],
   "source": [
    "encode_gen = pd.DataFrame(transform_gen, columns=column_names)"
   ]
  },
  {
   "cell_type": "code",
   "execution_count": null,
   "metadata": {},
   "outputs": [],
   "source": [
    "concat_gen = pd.concat([subset_without_missing_gen, encode_gen], axis=1)"
   ]
  },
  {
   "cell_type": "code",
   "execution_count": null,
   "metadata": {},
   "outputs": [],
   "source": [
    "concat_gen.drop(columns=['ANREDE_KZ', \n",
    "                 'CJT_GESAMTTYP', \n",
    "                 'FINANZTYP', \n",
    "                 'CAMEO_INTL_2015', \n",
    "                 'PRAEGENDE_JUGENDJAHRE', \n",
    "                 'SEMIO_DOM',\n",
    "                 'ANREDE_KZ', \n",
    "                 'CJT_GESAMTTYP', \n",
    "                 'FINANZTYP', \n",
    "                 'SEMIO_ERL',\n",
    "                 'GFK_URLAUBERTYP', \n",
    "                 'HEALTH_TYP', \n",
    "                 'SEMIO_FAM', \n",
    "                 'SEMIO_KAEM',\n",
    "                 'LP_FAMILIE_GROB', \n",
    "                 'LP_STATUS_GROB', \n",
    "                 'SEMIO_KRIT', \n",
    "                 'SEMIO_KULT',\n",
    "                 'RETOURTYP_BK_S', \n",
    "                 'SHOPPER_TYP', \n",
    "                 'missing_values', \n",
    "                 'SEMIO_LUST',\n",
    "                 'SEMIO_MAT', \n",
    "                 'SEMIO_PFLICHT', \n",
    "                 'SEMIO_RAT', \n",
    "                 'SEMIO_REL', \n",
    "                 'SEMIO_SOZ',\n",
    "                 'SEMIO_TRADV', \n",
    "                 'SEMIO_VERT', \n",
    "                 'Decade', \n",
    "                 'Movement', \n",
    "                 'Wealth', \n",
    "                 'Family', \n",
    "                 'GFK_URLAUBERTYP', \n",
    "                 'HEALTH_TYP', \n",
    "                 'LP_FAMILIE_GROB',\n",
    "                 'LP_STATUS_GROB', \n",
    "                 'RETOURTYP_BK_S'], axis=1, inplace=True)"
   ]
  },
  {
   "cell_type": "code",
   "execution_count": null,
   "metadata": {},
   "outputs": [],
   "source": [
    "print(concat_gen.columns)"
   ]
  },
  {
   "cell_type": "code",
   "execution_count": null,
   "metadata": {},
   "outputs": [],
   "source": [
    "concat_gen.isna().sum()"
   ]
  },
  {
   "cell_type": "code",
   "execution_count": null,
   "metadata": {},
   "outputs": [],
   "source": [
    "concat_gen.dropna(inplace=True)\n",
    "concat_gen..reset_index(drop=True, inplace=True)"
   ]
  },
  {
   "cell_type": "code",
   "execution_count": null,
   "metadata": {},
   "outputs": [],
   "source": [
    "concat_gen.isna().sum()"
   ]
  },
  {
   "cell_type": "markdown",
   "metadata": {},
   "source": [
    "#### Discussion 1.2.2: Engineer Mixed-Type Features\n",
    "\n",
    "I decoded and re-encoded the new variables I created from CAMEO_INTL_2015 (Wealth and Family) and PRAEGENDE_JUGENDJAHRE (Decade and Movement).  I then dropped CAMEO_INTL_2015 and PRAEGENDE_JUGENDJAHRE.  The other categorical and mixed variables I dropped because they were not needed for analysis."
   ]
  },
  {
   "cell_type": "markdown",
   "metadata": {},
   "source": [
    "#### Step 1.2.3: Complete Feature Selection\n",
    "\n",
    "In order to finish this step up, you need to make sure that your data frame now only has the columns that you want to keep. To summarize, the dataframe should consist of the following:\n",
    "- All numeric, interval, and ordinal type columns from the original dataset.\n",
    "- Binary categorical features (all numerically-encoded).\n",
    "- Engineered features from other multi-level categorical features and mixed features.\n",
    "\n",
    "Make sure that for any new columns that you have engineered, that you've excluded the original columns from the final dataset. Otherwise, their values will interfere with the analysis later on the project. For example, you should not keep \"PRAEGENDE_JUGENDJAHRE\", since its values won't be useful for the algorithm: only the values derived from it in the engineered features you created should be retained. As a reminder, your data should only be from **the subset with few or no missing values**."
   ]
  },
  {
   "cell_type": "code",
   "execution_count": null,
   "metadata": {},
   "outputs": [],
   "source": [
    "# Do whatever you need to in order to ensure that the dataframe only contains\n",
    "# the columns that should be passed to the algorithm functions.\n",
    "features_to_scale = list(concat_gen.columns.values)"
   ]
  },
  {
   "cell_type": "markdown",
   "metadata": {},
   "source": [
    "### Step 1.3: Create a Cleaning Function\n",
    "\n",
    "Even though you've finished cleaning up the general population demographics data, it's important to look ahead to the future and realize that you'll need to perform the same cleaning steps on the customer demographics data. In this substep, complete the function below to execute the main feature selection, encoding, and re-engineering steps you performed above. Then, when it comes to looking at the customer data in Step 3, you can just run this function on that DataFrame to get the trimmed dataset in a single step."
   ]
  },
  {
   "cell_type": "markdown",
   "metadata": {},
   "source": [
    "## Step 2: Feature Transformation\n",
    "\n",
    "### Step 2.1: Apply Feature Scaling\n",
    "\n",
    "Before we apply dimensionality reduction techniques to the data, we need to perform feature scaling so that the principal component vectors are not influenced by the natural differences in scale for features. Starting from this part of the project, you'll want to keep an eye on the [API reference page for sklearn](http://scikit-learn.org/stable/modules/classes.html) to help you navigate to all of the classes and functions that you'll need. In this substep, you'll need to check the following:\n",
    "\n",
    "- sklearn requires that data not have missing values in order for its estimators to work properly. So, before applying the scaler to your data, make sure that you've cleaned the DataFrame of the remaining missing values. This can be as simple as just removing all data points with missing data, or applying an [Imputer](https://scikit-learn.org/0.16/modules/generated/sklearn.preprocessing.Imputer.html) to replace all missing values. You might also try a more complicated procedure where you temporarily remove missing values in order to compute the scaling parameters before re-introducing those missing values and applying imputation. Think about how much missing data you have and what possible effects each approach might have on your analysis, and justify your decision in the discussion section below.\n",
    "- For the actual scaling function, a [StandardScaler](http://scikit-learn.org/stable/modules/generated/sklearn.preprocessing.StandardScaler.html) instance is suggested, scaling each feature to mean 0 and standard deviation 1.\n",
    "- For these classes, you can make use of the `.fit_transform()` method to both fit a procedure to the data as well as apply the transformation to the data at the same time. Don't forget to keep the fit sklearn objects handy, since you'll be applying them to the customer demographics data towards the end of the project."
   ]
  },
  {
   "cell_type": "code",
   "execution_count": null,
   "metadata": {},
   "outputs": [],
   "source": [
    "# Apply feature scaling to the general population demographics data.\n",
    "\n",
    "scaler = StandardScaler()\n",
    "scaled_data = scaler.fit_transform(concat_gen)\n",
    "scaled_df = pd.DataFrame(scaled_data, columns=concat_gen.columns)"
   ]
  },
  {
   "cell_type": "markdown",
   "metadata": {},
   "source": [
    "### Discussion 2.1: Apply Feature Scaling\n",
    "\n",
    "Since the scales of each feature varies, it made more sense to use StandardScaler instead of MinMaxScaler so that the mean was 0 and the standard deviation was 1."
   ]
  },
  {
   "cell_type": "markdown",
   "metadata": {},
   "source": [
    "### Step 2.2: Perform Dimensionality Reduction\n",
    "\n",
    "On your scaled data, you are now ready to apply dimensionality reduction techniques.\n",
    "\n",
    "- Use sklearn's [PCA](http://scikit-learn.org/stable/modules/generated/sklearn.decomposition.PCA.html) class to apply principal component analysis on the data, thus finding the vectors of maximal variance in the data. To start, you should not set any parameters (so all components are computed) or set a number of components that is at least half the number of features (so there's enough features to see the general trend in variability).\n",
    "- Check out the ratio of variance explained by each principal component as well as the cumulative variance explained. Try plotting the cumulative or sequential values using matplotlib's [`plot()`](https://matplotlib.org/api/_as_gen/matplotlib.pyplot.plot.html) function. Based on what you find, select a value for the number of transformed features you'll retain for the clustering part of the project.\n",
    "- Once you've made a choice for the number of components to keep, make sure you re-fit a PCA instance to perform the decided-on transformation."
   ]
  },
  {
   "cell_type": "code",
   "execution_count": null,
   "metadata": {},
   "outputs": [],
   "source": [
    "# Apply PCA to the data.\n",
    "\n",
    "from sklearn.decomposition import PCA\n",
    "\n",
    "pca = PCA()\n",
    "principal_comp = pca.fit_transform(scaled_data)\n",
    "pca_df = pd.DataFrame(data=principal_comp, columns=features_to_scale)"
   ]
  },
  {
   "cell_type": "code",
   "execution_count": null,
   "metadata": {},
   "outputs": [],
   "source": [
    "pca_df.shape"
   ]
  },
  {
   "cell_type": "code",
   "execution_count": null,
   "metadata": {},
   "outputs": [],
   "source": [
    "# Investigate the variance accounted for by each principal component.\n",
    "explained_var = pca.explained_variance_ratio_\n",
    "eigenvalues = pca.explained_variance_\n",
    "\n",
    "variance_df = pd.DataFrame({\n",
    "    'Principal Component': [f'{i}' for i in features_to_scale],\n",
    "    'Explained Variance Ratio': explained_var\n",
    "})"
   ]
  },
  {
   "cell_type": "code",
   "execution_count": null,
   "metadata": {},
   "outputs": [],
   "source": [
    "variance_df1 = variance_df.sort_values(by='Explained Variance Ratio')"
   ]
  },
  {
   "cell_type": "code",
   "execution_count": null,
   "metadata": {},
   "outputs": [],
   "source": [
    "var_df_10 = variance_df1.tail(10)\n",
    "var_df_10"
   ]
  },
  {
   "cell_type": "code",
   "execution_count": null,
   "metadata": {},
   "outputs": [],
   "source": [
    "var_df_10_list = var_df_10['Principal Component'].values.tolist()"
   ]
  },
  {
   "cell_type": "code",
   "execution_count": null,
   "metadata": {},
   "outputs": [],
   "source": [
    "plt.rcParams.update({'font.size': 22})\n",
    "plt.figure(figsize=(10, 6))\n",
    "plt.bar(variance_df['Principal Component'], variance_df['Explained Variance Ratio'], color='skyblue')\n",
    "plt.xlabel('Principal Components')\n",
    "plt.ylabel('Explained Variance Ratio')\n",
    "plt.title('Explained Variance by Principal Components')\n",
    "plt.xticks(rotation=90)\n",
    "plt.grid(axis='y')\n",
    "plt.show()"
   ]
  },
  {
   "cell_type": "code",
   "execution_count": null,
   "metadata": {},
   "outputs": [],
   "source": [
    "plt.figure(figsize=(10, 6))\n",
    "plt.plot(range(1, len(explained_var) + 1), explained_var, marker='o', linestyle='--')\n",
    "plt.title('Explained Variance by Principal Components')\n",
    "plt.xlabel('Number of Components')\n",
    "plt.ylabel('Explained Variance Ratio')\n",
    "plt.xticks(range(1, len(explained_var) + 1), rotation=90)\n",
    "plt.grid()\n",
    "plt.tight_layout()\n",
    "plt.show()"
   ]
  },
  {
   "cell_type": "code",
   "execution_count": null,
   "metadata": {},
   "outputs": [],
   "source": [
    "# Re-apply PCA to the data while selecting for number of components to retain.\n",
    "n_components=10\n",
    "\n",
    "pca = PCA(n_components=n_components)\n",
    "principal_comp = pca.fit_transform(scaled_data)"
   ]
  },
  {
   "cell_type": "code",
   "execution_count": null,
   "metadata": {},
   "outputs": [],
   "source": [
    "pca_df1 = pd.DataFrame(data=principal_comp, columns=var_df_10_list)"
   ]
  },
  {
   "cell_type": "code",
   "execution_count": null,
   "metadata": {},
   "outputs": [],
   "source": [
    "pca_df1"
   ]
  },
  {
   "cell_type": "markdown",
   "metadata": {},
   "source": [
    "### Discussion 2.2: Perform Dimensionality Reduction\n",
    "\n",
    "After plotting explained variance of all features, I determined that elbow of the screen plot is at point 4, meaning the amount of variance starts to level out at that point, so that's the number of transformed features I'm retaining for the next step."
   ]
  },
  {
   "cell_type": "markdown",
   "metadata": {},
   "source": [
    "### Step 2.3: Interpret Principal Components\n",
    "\n",
    "Now that we have our transformed principal components, it's a nice idea to check out the weight of each variable on the first few components to see if they can be interpreted in some fashion.\n",
    "\n",
    "As a reminder, each principal component is a unit vector that points in the direction of highest variance (after accounting for the variance captured by earlier principal components). The further a weight is from zero, the more the principal component is in the direction of the corresponding feature. If two features have large weights of the same sign (both positive or both negative), then increases in one tend expect to be associated with increases in the other. To contrast, features with different signs can be expected to show a negative correlation: increases in one variable should result in a decrease in the other.\n",
    "\n",
    "- To investigate the features, you should map each weight to their corresponding feature name, then sort the features according to weight. The most interesting features for each principal component, then, will be those at the beginning and end of the sorted list. Use the data dictionary document to help you understand these most prominent features, their relationships, and what a positive or negative value on the principal component might indicate.\n",
    "- You should investigate and interpret feature associations from the first three principal components in this substep. To help facilitate this, you should write a function that you can call at any time to print the sorted list of feature weights, for the *i*-th principal component. This might come in handy in the next step of the project, when you interpret the tendencies of the discovered clusters."
   ]
  },
  {
   "cell_type": "code",
   "execution_count": null,
   "metadata": {},
   "outputs": [],
   "source": [
    "def interpret_features(component_n):\n",
    "    \n",
    "    feature_names = concat_gen.columns\n",
    "    weights = pca.components_[component_n]\n",
    "    \n",
    "    # Create a DataFrame to map feature names to their weights\n",
    "    weights_df = pd.DataFrame({\n",
    "        'Feature': feature_names,\n",
    "        'Weight': weights\n",
    "    })\n",
    "    \n",
    "    # Sort the DataFrame by absolute weight values\n",
    "    sorted_weights_df = weights_df.reindex(weights_df['Weight'].abs().sort_values(ascending=False).index)\n",
    "    \n",
    "    # Print the sorted weights\n",
    "    print(sorted_weights_df)"
   ]
  },
  {
   "cell_type": "code",
   "execution_count": null,
   "metadata": {},
   "outputs": [],
   "source": [
    "# Get the weights of the first principal component\n",
    "interpret_features(0)"
   ]
  },
  {
   "cell_type": "code",
   "execution_count": null,
   "metadata": {},
   "outputs": [],
   "source": [
    "# Map weights for the second principal component to corresponding feature names\n",
    "# and then print the linked values, sorted by weight.\n",
    "\n",
    "interpret_features(1)"
   ]
  },
  {
   "cell_type": "code",
   "execution_count": null,
   "metadata": {},
   "outputs": [],
   "source": [
    "# Map weights for the third principal component to corresponding feature names\n",
    "# and then print the linked values, sorted by weight.\n",
    "\n",
    "interpret_features(2)"
   ]
  },
  {
   "cell_type": "markdown",
   "metadata": {},
   "source": [
    "### Discussion 2.3: Interpret Principal Components\n",
    "\n",
    "For the first principal component, the high positive weights revolve around those with low financial interest and social standing, how often they move, their household income, and whether there are 1-2 family homes in their area, indicating those things are the most important.  The lowest weights revolve around how they're influenced in making purchases, whether they have a small office/home office, and what type of vacations they like to go on.\n",
    "\n",
    "For the second principal component, the high positive weights revolve around those with religious personalities, those that are not flashy with their money and are generally money savers, and estimates on their age/birthdates.  The lowest weights involve how many 3-5 family homes there are in the area, those that have poor health, the number of professional title holders, and those that are comfortable financially.\n",
    "\n",
    "For the third principal component, the high positive weights resolve around whether someone is male or female and the type of personality they have, specifically dreamlike, combative, dominant-minded, and family-minded.  The lowest weights revolve around those that are wealthy and inconspicuous with their money, and those that travel for an event on their vacations."
   ]
  },
  {
   "cell_type": "markdown",
   "metadata": {},
   "source": [
    "## Step 3: Clustering\n",
    "\n",
    "### Step 3.1: Apply Clustering to General Population\n",
    "\n",
    "You've assessed and cleaned the demographics data, then scaled and transformed them. Now, it's time to see how the data clusters in the principal components space. In this substep, you will apply k-means clustering to the dataset and use the average within-cluster distances from each point to their assigned cluster's centroid to decide on a number of clusters to keep.\n",
    "\n",
    "- Use sklearn's [KMeans](http://scikit-learn.org/stable/modules/generated/sklearn.cluster.KMeans.html#sklearn.cluster.KMeans) class to perform k-means clustering on the PCA-transformed data.\n",
    "- Then, compute the average difference from each point to its assigned cluster's center. **Hint**: The KMeans object's `.score()` method might be useful here, but note that in sklearn, scores tend to be defined so that larger is better. Try applying it to a small, toy dataset, or use an internet search to help your understanding.\n",
    "- Perform the above two steps for a number of different cluster counts. You can then see how the average distance decreases with an increasing number of clusters. However, each additional cluster provides a smaller net benefit. Use this fact to select a final number of clusters in which to group the data. **Warning**: because of the large size of the dataset, it can take a long time for the algorithm to resolve. The more clusters to fit, the longer the algorithm will take. You should test for cluster counts through at least 10 clusters to get the full picture, but you shouldn't need to test for a number of clusters above about 30.\n",
    "- Once you've selected a final number of clusters to use, re-fit a KMeans instance to perform the clustering operation. Make sure that you also obtain the cluster assignments for the general demographics data, since you'll be using them in the final Step 3.3."
   ]
  },
  {
   "cell_type": "code",
   "execution_count": null,
   "metadata": {},
   "outputs": [],
   "source": [
    "scaler = StandardScaler() \n",
    "scaled_data = scaler.fit_transform(concat_gen)\n",
    "scaled_df = pd.DataFrame(scaled_data, columns=concat_gen.columns)"
   ]
  },
  {
   "cell_type": "code",
   "execution_count": null,
   "metadata": {},
   "outputs": [],
   "source": [
    "# Over a number of different cluster counts...\n",
    "from sklearn.cluster import KMeans\n",
    "\n",
    "# run k-means clustering on the data and...\n",
    "\n",
    "# compute the average within-cluster distances.\n",
    "\n",
    "range_clusters = range(1, 11)\n",
    "inertia = []\n",
    "for n_clusters in range_clusters:\n",
    "    kmeans = KMeans(n_clusters=n_clusters, random_state=42)\n",
    "    kmeans.fit(scaled_data)\n",
    "    inertia.append(kmeans.inertia_)"
   ]
  },
  {
   "cell_type": "code",
   "execution_count": null,
   "metadata": {},
   "outputs": [],
   "source": [
    "# Investigate the change in within-cluster distance across number of clusters.\n",
    "# HINT: Use matplotlib's plot function to visualize this relationship.\n",
    "\n",
    "plt.figure(figsize=(10, 6))\n",
    "plt.plot(range_clusters, inertia, marker='o')\n",
    "plt.title('K-means Clustering: Inertia vs. Number of Clusters')\n",
    "plt.xlabel('Number of Clusters')\n",
    "plt.ylabel('Inertia (Average Within-Cluster Distance)')\n",
    "plt.xticks(range_clusters)\n",
    "plt.grid()\n",
    "plt.show()"
   ]
  },
  {
   "cell_type": "code",
   "execution_count": null,
   "metadata": {},
   "outputs": [],
   "source": [
    "# Re-fit the k-means model with the selected number of clusters and obtain\n",
    "# cluster predictions for the general population demographics data.\n",
    "\n",
    "n_clusters = 10\n",
    "inertia = []\n",
    "\n",
    "kmeans = KMeans(n_clusters=n_clusters, random_state=42)\n",
    "kmeans.fit(scaled_data)\n",
    "inertia.append(kmeans.inertia_)"
   ]
  },
  {
   "cell_type": "code",
   "execution_count": null,
   "metadata": {},
   "outputs": [],
   "source": [
    "def clean_data(df):\n",
    "    \"\"\"\n",
    "    Perform feature trimming, re-encoding, and engineering for demographics\n",
    "    data\n",
    "    \n",
    "    INPUT: Demographics DataFrame\n",
    "    OUTPUT: Trimmed and cleaned demographics DataFrame\n",
    "    \"\"\"\n",
    "    # Put in code here to execute all main cleaning steps:\n",
    "    \n",
    "    cat_columns = [\n",
    "            'Decade', \n",
    "            'Movement', \n",
    "            'Wealth', \n",
    "            'Family', \n",
    "            'ANREDE_KZ', \n",
    "            'CJT_GESAMTTYP', \n",
    "            'FINANZTYP', \n",
    "            'GFK_URLAUBERTYP', \n",
    "            'HEALTH_TYP', \n",
    "            'LP_FAMILIE_GROB', \n",
    "            'LP_STATUS_GROB', \n",
    "            'RETOURTYP_BK_S', \n",
    "            'SHOPPER_TYP'\n",
    "    ]\n",
    "    \n",
    "    cols_to_drop = [\n",
    "            'OST_WEST_KZ', \n",
    "            'CAMEO_DEUG_2015', \n",
    "            'CAMEO_DEU_2015', \n",
    "            'KBA13_ANZAHL_PKW',\n",
    "            'PLZ8_ANTG1', \n",
    "            'PLZ8_ANTG2', \n",
    "            'PLZ8_ANTG3', \n",
    "            'PLZ8_ANTG4', \n",
    "            'PLZ8_BAUMAX',\n",
    "            'PLZ8_HHZ', \n",
    "            'PLZ8_GBZ', \n",
    "            'GEBAEUDETYP_RASTER', \n",
    "            'MOBI_REGIO', \n",
    "            'GEBAEUDETYP_RASTER',\n",
    "            'BALLRAUM', \n",
    "            'EWDICHTE', \n",
    "            'INNENSTADT', \n",
    "            'KBA05_GBZ', \n",
    "            'KBA05_ANTG4',\n",
    "            'KBA05_ANTG3', \n",
    "            'KBA05_ANTG2', \n",
    "            'KBA05_ANTG1', \n",
    "            'WOHNLAGE', \n",
    "            'MIN_GEBAEUDEJAHR', \n",
    "            'ANZ_HAUSHALTE_AKTIV', \n",
    "            'GEBAEUDETYP',\n",
    "            'KONSUMNAEHE', \n",
    "            'SOHO_KZ', \n",
    "            'VERS_TYP', \n",
    "            'ZABEOTYP', \n",
    "            'TITEL_KZ', \n",
    "            'KK_KUNDENTYP', \n",
    "            'KBA05_BAUMAX', \n",
    "            'AGER_TYP', \n",
    "            'GEBURTSJAHR', \n",
    "            'LP_LEBENSPHASE_FEIN', \n",
    "            'LP_LEBENSPHASE_GROB', \n",
    "            'LP_FAMILIE_FEIN', \n",
    "            'LP_STATUS_FEIN', \n",
    "            'NATIONALITAET_KZ', \n",
    "            'GEBAEUDETYP', \n",
    "            'SEMIO_DOM', \n",
    "            'SEMIO_ERL', \n",
    "            'SEMIO_FAM', \n",
    "            'SEMIO_KAEM', \n",
    "            'SEMIO_KRIT', \n",
    "            'SEMIO_KULT', \n",
    "            'SEMIO_LUST', \n",
    "            'SEMIO_MAT', \n",
    "            'SEMIO_PFLICHT', \n",
    "            'SEMIO_RAT', \n",
    "            'SEMIO_REL', \n",
    "            'SEMIO_SOZ', \n",
    "            'SEMIO_TRADV', \n",
    "            'SEMIO_VERT'\n",
    "    ]\n",
    "    \n",
    "    gender_map = {1: 'Male',\n",
    "                  2: 'Female'}\n",
    "    advert_map = {1: 'Advertising- and Consumptionminimalist',\n",
    "                  2: 'Advertising- and Consumptiontraditionalist',\n",
    "                  3: 'advertisinginterested Store-shopper',\n",
    "                  4: 'advertisinginterested Online-shopper',\n",
    "                  5: 'Advertising- and Cross-Channel-Enthusiast',\n",
    "                  6: 'Advertising-Enthusiast with restricted Cross-Channel-Behaviour'}\n",
    "    financial_map = {1: 'low financial interest (MINIMALIST)',\n",
    "                     2: 'money-saver (SPARER)',\n",
    "                     3: 'home ownership (HAUSBAUER)',\n",
    "                     4: 'be prepared (VORSORGER)',\n",
    "                     5: 'investor (ANLEGER)',\n",
    "                     6: 'inconspicuous (UNAUFFAELLIGER)'}\n",
    "    vacation_map = {1: 'Event travelers',\n",
    "                    2: 'Family-oriented vacationists',\n",
    "                    3: 'Winter sportspeople',\n",
    "                    4: 'Culture lovers',\n",
    "                    5: 'Nature fans',\n",
    "                    6: 'Hiker',\n",
    "                    7: 'Golden ager',\n",
    "                    8: 'Homeland-connected vacationists',\n",
    "                    9: 'Package tour travelers',\n",
    "                    10: 'Connoisseurs',\n",
    "                    11: 'Active families',\n",
    "                    12: 'Without vacation'}\n",
    "    health_map = {1: 'critical reserved',\n",
    "                  2: 'sanitary affine',\n",
    "                  3: 'jaunty hedonists'}\n",
    "    family_rough_map = {1: 'single',\n",
    "                        2: 'couple',\n",
    "                        3: 'single parent',\n",
    "                        4: 'family',\n",
    "                        5: 'multiperson household'}\n",
    "    social_status_map = {1: 'low-income',\n",
    "                         2: 'average',\n",
    "                         3: 'independents',\n",
    "                         4: 'houseowners',\n",
    "                         5: 'top earners'}\n",
    "    return_map = {1: 'influenceable',\n",
    "                  2: 'demanding',\n",
    "                  3: 'incentive-receptive',\n",
    "                  4: 'conservative',\n",
    "                  5: 'determined'}\n",
    "    shopper_map = {0: 'external supplied hedonists',\n",
    "                   1: 'Shopping-stressed',\n",
    "                   2: 'family-shopper',\n",
    "                   3: 'demanding shopper'}\n",
    "\n",
    "    decade_map = {1.0: '40s',\n",
    "                  2.0: '50s',\n",
    "                  3.0: '60s',\n",
    "                  4.0: '70s',\n",
    "                  5.0: '80s',\n",
    "                  6.0: '90s'}\n",
    "    movement_map = {0.0: 'mainstream',\n",
    "                    1.0: 'avantgarde'}\n",
    "    wealth_map = {1.0: 'Wealthy Households',\n",
    "                  2.0: 'Prosperous Households',\n",
    "                  3.0: 'Comfortable Households',\n",
    "                  4.0: 'Less Affluent Households',\n",
    "                  5.0: 'Poorer Households'}\n",
    "    family_map = {1.0: 'Pre-Family Couples & Singles',\n",
    "                  2.0: 'Young Couples With Children',\n",
    "                  3.0: 'Families With School Age Children',\n",
    "                  4.0: 'Older Families &  Mature Couples',\n",
    "                  5.0: 'Elders In Retirement'}\n",
    "    \n",
    "    # convert missing value codes into NaNs, ...\n",
    "    \n",
    "    df.replace(unknown_chars, np.nan, inplace=True)\n",
    "    df['ALTERSKATEGORIE_GROB'].replace(0, np.nan, inplace=True)\n",
    "    df['ANREDE_KZ'].replace(0, np.nan, inplace=True)\n",
    "    df['CJT_GESAMTTYP'].replace(0, np.nan, inplace=True)\n",
    "    df['HEALTH_TYP'].replace(0, np.nan, inplace=True)\n",
    "    df['LP_FAMILIE_GROB'].replace(0, np.nan, inplace=True)\n",
    "    df['PRAEGENDE_JUGENDJAHRE'].replace(0, np.nan, inplace=True)\n",
    "    df['RETOURTYP_BK_S'].replace(0, np.nan, inplace=True)\n",
    "    df['ALTER_HH'].replace(0, np.nan, inplace=True)\n",
    "    df['HH_EINKOMMEN_SCORE'].replace(0, np.nan, inplace=True)\n",
    "    df['W_KEIT_KIND_HH'].replace(0, np.nan, inplace=True)\n",
    "    df['WOHNDAUER_2008'].replace(0, np.nan, inplace=True)\n",
    "    df['KKK'].replace(0, np.nan, inplace=True)\n",
    "    df['REGIOTYP'].replace(0, np.nan, inplace=True)\n",
    "    df['ALTER_HH'].replace(0, np.nan, inplace=True)\n",
    "    df['ARBEIT'].replace(9, np.nan, inplace=True)\n",
    "    df['RELAT_AB'].replace(9, np.nan, inplace=True)\n",
    "    \n",
    "    missing_sub = df.isnull().sum(axis=1)\n",
    "    df['missing_values'] = missing_sub\n",
    "\n",
    "    threshold = 0\n",
    "\n",
    "    df = df.loc[missing_sub <= threshold]\n",
    "    \n",
    "    # remove selected columns and rows, ...\n",
    "    \n",
    "    df = df.loc[:, df.columns.difference(cols_to_drop)]\n",
    "    #df.drop(columns=cols_to_drop, axis=1)\n",
    "\n",
    "    # Decode the new variables created from PRAEGENDE_JUGENDJAHRE and CAMEO_INTL_2015 so they can be re-encoded using OneHotEncoder\n",
    "    \n",
    "    df['Decade'] = df['PRAEGENDE_JUGENDJAHRE']\n",
    "    df['Decade'].replace([1, 2], 1, inplace=True)\n",
    "    df['Decade'].replace([3, 4], 2, inplace=True)\n",
    "    df['Decade'].replace([5, 6, 7], 3, inplace=True)\n",
    "    df['Decade'].replace([8, 9], 4, inplace=True)\n",
    "    df['Decade'].replace([10, 11, 12, 13], 5, inplace=True)\n",
    "    df['Decade'].replace([14, 15], 6, inplace=True)\n",
    "    df['Movement'] = df['PRAEGENDE_JUGENDJAHRE']\n",
    "    df['Movement'].replace([1, 3, 5, 8, 10, 12, 14], 0, inplace=True)\n",
    "    df['Movement'].replace([2, 4, 6, 7, 9, 11, 13, 15], 1, inplace=True)\n",
    "\n",
    "    df['Wealth'] = df['CAMEO_INTL_2015']\n",
    "    df['Wealth'].replace(['11', '12', '13', '14', '15'], 1, inplace=True)\n",
    "    df['Wealth'].replace(['21', '22', '23', '24', '25'], 2, inplace=True)\n",
    "    df['Wealth'].replace(['31', '32', '33', '34', '35'], 3, inplace=True)\n",
    "    df['Wealth'].replace(['41', '42', '43', '44', '45'], 4, inplace=True)\n",
    "    df['Wealth'].replace(['51', '52', '53', '54', '55'], 5, inplace=True)\n",
    "    df['Family'] = df['CAMEO_INTL_2015']\n",
    "    df['Family'].replace(['11', '21', '31', '41', '51'], 1, inplace=True)\n",
    "    df['Family'].replace(['12', '22', '32', '42', '52'], 2, inplace=True)\n",
    "    df['Family'].replace(['13', '23', '33', '43', '53'], 3, inplace=True)\n",
    "    df['Family'].replace(['14', '24', '34', '44', '54'], 4, inplace=True)\n",
    "    df['Family'].replace(['15', '25', '35', '45', '55'], 5, inplace=True)\n",
    "\n",
    "    df['Decade'] = df['Decade'].map(decade_map)\n",
    "    df['Movement'] = df['Movement'].map(movement_map)\n",
    "    df['Wealth'] = df['Wealth'].map(wealth_map)\n",
    "    df['Family'] = df['Family'].map(family_map)\n",
    "    \n",
    "    # Decode nominal variables before re-encoding using OneHotEncoder\n",
    "    \n",
    "    df['ANREDE_KZ'] = df['ANREDE_KZ'].map(gender_map)\n",
    "    df['CJT_GESAMTTYP'] = df['CJT_GESAMTTYP'].map(advert_map)\n",
    "    df['FINANZTYP'] = df['FINANZTYP'].map(financial_map)\n",
    "    df['GFK_URLAUBERTYP'] = df['GFK_URLAUBERTYP'].map(vacation_map)\n",
    "    df['HEALTH_TYP'] = df['HEALTH_TYP'].map(health_map)\n",
    "    df['LP_FAMILIE_GROB'] = df['LP_FAMILIE_GROB'].map(family_rough_map)\n",
    "    df['LP_STATUS_GROB'] = df['LP_STATUS_GROB'].map(social_status_map)\n",
    "    df['RETOURTYP_BK_S'] = df['RETOURTYP_BK_S'].map(return_map)\n",
    "    df['SHOPPER_TYP'] = df['SHOPPER_TYP'].map(shopper_map)\n",
    "    \n",
    "    # select, re-encode, and engineer column values.\n",
    "    ohe = OneHotEncoder(sparse=True, handle_unknown='ignore')\n",
    "\n",
    "    transform_sub = ohe.fit_transform(df[cat_columns])\n",
    "\n",
    "    column_names = ohe.get_feature_names(cat_columns)\n",
    "    \n",
    "    encode_sub = pd.DataFrame.sparse.from_spmatrix(transform_sub, columns=ohe.get_feature_names(cat_columns))\n",
    "    concat_sub = pd.concat([df, encode_sub], axis=1)\n",
    "    \n",
    "    new_cols_to_drop = ['GFK_URLAUBERTYP', 'FINANZTYP', 'CJT_GESAMTTYP', 'ANREDE_KZ', 'Decade', 'Movement', 'Wealth', 'Family', 'PRAEGENDE_JUGENDJAHRE', 'CAMEO_INTL_2015', 'HEALTH_TYP', 'LP_FAMILIE_GROB', 'LP_STATUS_GROB', 'RETOURTYP_BK_S', 'SHOPPER_TYP']\n",
    "    \n",
    "    #concat_sub.drop(columns=new_cols_to_drop, axis=1)\n",
    "    concat_sub = concat_sub.loc[:, concat_sub.columns.difference(new_cols_to_drop)]\n",
    "\n",
    "    concat_sub.dropna(inplace=True)\n",
    "    concat_sub.reset_index(drop=True, inplace=True)\n",
    "    df = concat_sub.copy()\n",
    "    \n",
    "    # Return the cleaned dataframe.\n",
    "    \n",
    "    return concat_sub"
   ]
  },
  {
   "cell_type": "markdown",
   "metadata": {},
   "source": [
    "### Discussion 3.1: Apply Clustering to General Population\n",
    "\n",
    "Since the Jupyter Notebook was never finishing the for loop to show the K-means clustering for the whole dataset, I dropped a lot of the features I didn't feel met the needs of my analysis, which took the total down to 48, then I ran KMeans to determine the ideal number of clusters was 4."
   ]
  },
  {
   "cell_type": "markdown",
   "metadata": {},
   "source": [
    "### Step 3.2: Apply All Steps to the Customer Data\n",
    "\n",
    "Now that you have clusters and cluster centers for the general population, it's time to see how the customer data maps on to those clusters. Take care to not confuse this for re-fitting all of the models to the customer data. Instead, you're going to use the fits from the general population to clean, transform, and cluster the customer data. In the last step of the project, you will interpret how the general population fits apply to the customer data.\n",
    "\n",
    "- Don't forget when loading in the customers data, that it is semicolon (`;`) delimited.\n",
    "- Apply the same feature wrangling, selection, and engineering steps to the customer demographics using the `clean_data()` function you created earlier. (You can assume that the customer demographics data has similar meaning behind missing data patterns as the general demographics data.)\n",
    "- Use the sklearn objects from the general demographics data, and apply their transformations to the customers data. That is, you should not be using a `.fit()` or `.fit_transform()` method to re-fit the old objects, nor should you be creating new sklearn objects! Carry the data through the feature scaling, PCA, and clustering steps, obtaining cluster assignments for all of the data in the customer demographics data."
   ]
  },
  {
   "cell_type": "code",
   "execution_count": null,
   "metadata": {},
   "outputs": [],
   "source": [
    "# Load in the customer demographics data.\n",
    "customers = pd.read_csv('Udacity_CUSTOMERS_Subset.csv', engine='python', sep='\\;')"
   ]
  },
  {
   "cell_type": "code",
   "execution_count": null,
   "metadata": {},
   "outputs": [],
   "source": [
    "# Apply preprocessing, feature transformation, and clustering from the general\n",
    "# demographics onto the customer data, obtaining cluster predictions for the\n",
    "# customer demographics data.\n",
    "clean_data(customers)"
   ]
  },
  {
   "cell_type": "markdown",
   "metadata": {},
   "source": [
    "### Step 3.3: Compare Customer Data to Demographics Data\n",
    "\n",
    "At this point, you have clustered data based on demographics of the general population of Germany, and seen how the customer data for a mail-order sales company maps onto those demographic clusters. In this final substep, you will compare the two cluster distributions to see where the strongest customer base for the company is.\n",
    "\n",
    "Consider the proportion of persons in each cluster for the general population, and the proportions for the customers. If we think the company's customer base to be universal, then the cluster assignment proportions should be fairly similar between the two. If there are only particular segments of the population that are interested in the company's products, then we should see a mismatch from one to the other. If there is a higher proportion of persons in a cluster for the customer data compared to the general population (e.g. 5% of persons are assigned to a cluster for the general population, but 15% of the customer data is closest to that cluster's centroid) then that suggests the people in that cluster to be a target audience for the company. On the other hand, the proportion of the data in a cluster being larger in the general population than the customer data (e.g. only 2% of customers closest to a population centroid that captures 6% of the data) suggests that group of persons to be outside of the target demographics.\n",
    "\n",
    "Take a look at the following points in this step:\n",
    "\n",
    "- Compute the proportion of data points in each cluster for the general population and the customer data. Visualizations will be useful here: both for the individual dataset proportions, but also to visualize the ratios in cluster representation between groups. Seaborn's [`countplot()`](https://seaborn.pydata.org/generated/seaborn.countplot.html) or [`barplot()`](https://seaborn.pydata.org/generated/seaborn.barplot.html) function could be handy.\n",
    "  - Recall the analysis you performed in step 1.1.3 of the project, where you separated out certain data points from the dataset if they had more than a specified threshold of missing values. If you found that this group was qualitatively different from the main bulk of the data, you should treat this as an additional data cluster in this analysis. Make sure that you account for the number of data points in this subset, for both the general population and customer datasets, when making your computations!\n",
    "- Which cluster or clusters are overrepresented in the customer dataset compared to the general population? Select at least one such cluster and infer what kind of people might be represented by that cluster. Use the principal component interpretations from step 2.3 or look at additional components to help you make this inference. Alternatively, you can use the `.inverse_transform()` method of the PCA and StandardScaler objects to transform centroids back to the original data space and interpret the retrieved values directly.\n",
    "- Perform a similar investigation for the underrepresented clusters. Which cluster or clusters are underrepresented in the customer dataset compared to the general population, and what kinds of people are typified by these clusters?"
   ]
  },
  {
   "cell_type": "code",
   "execution_count": null,
   "metadata": {},
   "outputs": [],
   "source": [
    "# Compare the proportion of data in each cluster for the customer data to the\n",
    "# proportion of data in each cluster for the general population.\n",
    "\n",
    "# Assuming you have two DataFrames: customer_data and general_population_data\n",
    "# Step 1: Fit K-means clustering on both datasets\n",
    "n_clusters = 10  # Specify the number of clusters you want\n",
    "kmeans_customers = KMeans(n_clusters=n_clusters, random_state=42)\n",
    "kmeans_general_population = KMeans(n_clusters=n_clusters, random_state=42)\n",
    "\n",
    "# Fit the models\n",
    "customer_labels = kmeans_customers.fit_predict(customers)\n",
    "general_population_labels = kmeans_general_population.fit_predict(concat_gen)\n",
    "\n",
    "# Step 2: Assign cluster labels to the DataFrames\n",
    "customers['Cluster'] = customer_labels\n",
    "concat_gen['Cluster'] = general_population_labels\n",
    "\n",
    "# Step 3: Calculate the proportions of each cluster\n",
    "customer_cluster_counts = customers['Cluster'].value_counts(normalize=True)\n",
    "general_population_cluster_counts = concat_gen['Cluster'].value_counts(normalize=True)\n",
    "\n",
    "# Step 4: Create a DataFrame to compare the proportions\n",
    "comparison_df = pd.DataFrame({\n",
    "    'Customer Proportion': customer_cluster_counts,\n",
    "    'General Population Proportion': general_population_cluster_counts\n",
    "}).fillna(0)  # Fill NaN values with 0 for clusters that may not be present in one of the datasets\n",
    "\n",
    "# Step 5: Display the comparison DataFrame\n",
    "print(comparison_df)"
   ]
  },
  {
   "cell_type": "code",
   "execution_count": null,
   "metadata": {},
   "outputs": [],
   "source": [
    "# What kinds of people are part of a cluster that is overrepresented in the\n",
    "# customer data compared to the general population?\n",
    "\n",
    "overrepresented_cluster = comparison_df['Customer Proportion'].idxmax()  # Get the index of the cluster with the highest proportion\n",
    "\n",
    "overrepresented_data = customer_data[customer_data['Cluster'] == overrepresented_cluster]\n",
    "\n",
    "summary = overrepresented_data.describe(include='all')  # This will give you a summary of all features\n",
    "\n",
    "print(f\"Characteristics of individuals in the overrepresented cluster (Cluster {overrepresented_cluster}):\")\n",
    "print(summary)"
   ]
  },
  {
   "cell_type": "code",
   "execution_count": null,
   "metadata": {},
   "outputs": [],
   "source": [
    "# What kinds of people are part of a cluster that is underrepresented in the\n",
    "# customer data compared to the general population?\n",
    "\n",
    "underrepresented_cluster = comparison_df['General Population Proportion'].idxmin()  # Get the index of the cluster with the lowest proportion in customer data\n",
    "\n",
    "underrepresented_data = customer_data[customer_data['Cluster'] == underrepresented_cluster]\n",
    "\n",
    "summary = underrepresented_data.describe(include='all')  # This will give you a summary of all features\n",
    "\n",
    "print(f\"Characteristics of individuals in the underrepresented cluster (Cluster {underrepresented_cluster}):\")\n",
    "print(summary)"
   ]
  },
  {
   "cell_type": "markdown",
   "metadata": {},
   "source": [
    "### Discussion 3.3: Compare Customer Data to Demographics Data\n",
    "\n",
    "(Double-click this cell and replace this text with your own text, reporting findings and conclusions from the clustering analysis. Can we describe segments of the population that are relatively popular with the mail-order company, or relatively unpopular with the company?)"
   ]
  },
  {
   "cell_type": "markdown",
   "metadata": {},
   "source": [
    "> Congratulations on making it this far in the project! Before you finish, make sure to check through the entire notebook from top to bottom to make sure that your analysis follows a logical flow and all of your findings are documented in **Discussion** cells. Once you've checked over all of your work, you should export the notebook as an HTML document to submit for evaluation. You can do this from the menu, navigating to **File -> Download as -> HTML (.html)**. You will submit both that document and this notebook for your project submission."
   ]
  },
  {
   "cell_type": "code",
   "execution_count": null,
   "metadata": {},
   "outputs": [],
   "source": []
  }
 ],
 "metadata": {
  "kernelspec": {
   "display_name": "Python 3",
   "language": "python",
   "name": "python3"
  },
  "language_info": {
   "codemirror_mode": {
    "name": "ipython",
    "version": 3
   },
   "file_extension": ".py",
   "mimetype": "text/x-python",
   "name": "python",
   "nbconvert_exporter": "python",
   "pygments_lexer": "ipython3",
   "version": "3.6.3"
  }
 },
 "nbformat": 4,
 "nbformat_minor": 2
}
